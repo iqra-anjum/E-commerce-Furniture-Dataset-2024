{
 "cells": [
  {
   "cell_type": "code",
   "execution_count": 1,
   "metadata": {},
   "outputs": [],
   "source": [
    "import numpy as np \n",
    "import pandas as pd\n",
    "import pickle\n",
    "from sklearn.ensemble import RandomForestClassifier\n",
    "import re"
   ]
  },
  {
   "cell_type": "code",
   "execution_count": 3,
   "metadata": {},
   "outputs": [],
   "source": [
    "# Creating a output folder"
   ]
  },
  {
   "cell_type": "code",
   "execution_count": 5,
   "metadata": {},
   "outputs": [],
   "source": [
    "processed_test_features = []\n",
    "\n",
    "for sentence in range(0, len(test_features)):\n",
    "    \n",
    "    # Remove all special characters\n",
    "    processed_feature = re.sub(r'\\W', ' ', str(test_features[sentence]))\n",
    "    \n",
    "    # Remove all words that include digits / numbers\n",
    "    processed_feature = re.sub(r'\\w*\\d\\w*', ' ', processed_feature)\n",
    "    \n",
    "    # Remove all single characters\n",
    "    processed_feature = re.sub(r'\\s+[a-zA-Z]\\s+', ' ', processed_feature)\n",
    "    \n",
    "    # Remove single characters from the start\n",
    "    processed_feature = re.sub(r'\\^[a-zA-Z]\\s+', ' ', processed_feature)\n",
    "    \n",
    "    # Substituing multiple spaces with single space\n",
    "    processed_feature = re.sub(r'\\s+', ' ', processed_feature, flags = re.I)\n",
    "    \n",
    "    # Converting to lowercase\n",
    "    processed_featured = processed_feature.lower()\n",
    "    \n",
    "    # Append cleaned review to processed list\n",
    "    processed_test_features.append(processed_feature)"
   ]
  },
  {
   "cell_type": "code",
   "execution_count": null,
   "metadata": {},
   "outputs": [],
   "source": [
    "# UnPickle our earlier trained model\n",
    "\n",
    "# Model 1 : Accuracy of 45.5% on y-test\n",
    "\n",
    "filename_01 = \"rfc_model_01.pkl\"\n",
    "with open(filename_01, 'rb') as file1:\n",
    "    pickle_rfc_01 = pickle.load(file1)\n",
    "    \n",
    "# Model 2 : Accuracy of 45.36% on y-test\n",
    "filename_02 = \"rfc_model_02.pkl\"\n",
    "with open(filename_02, 'rb') as file2:\n",
    "    pickle_rfc_02 = pickle.load(file2)"
   ]
  },
  {
   "cell_type": "code",
   "execution_count": null,
   "metadata": {},
   "outputs": [],
   "source": [
    "# Time to predict!\n",
    "\n",
    "predictions_01 = pickle_rfc_01.predict(processed_test_features)b"
   ]
  },
  {
   "cell_type": "code",
   "execution_count": null,
   "metadata": {},
   "outputs": [],
   "source": [
    "predictions_02 = pickle_rfc_02.predict(processed_test_features)"
   ]
  },
  {
   "cell_type": "code",
   "execution_count": null,
   "metadata": {},
   "outputs": [],
   "source": [
    "# Checking the prediction output accurate & is between 1 to 5\n",
    "# Check length to ensure input features = output predicted labels\n",
    "\n",
    "print(min(predictions_01), min(predictions_02))\n",
    "print(max(predictions_01), max(predictions_02))\n",
    "print(len(predictions_01), len(predictions_02), \"\\nOriginal:\", len(test_raw))"
   ]
  },
  {
   "cell_type": "code",
   "execution_count": null,
   "metadata": {},
   "outputs": [],
   "source": [
    "# Creating copies for ease of reusibility later\n",
    "\n",
    "submission_01 = test_raw.copy()\n",
    "\n",
    "submission_02 = test_raw.copy()\n",
    "\n",
    "# Checking if copy is successful\n",
    "submission_01.head()"
   ]
  },
  {
   "cell_type": "code",
   "execution_count": null,
   "metadata": {},
   "outputs": [],
   "source": [
    "# Attaching the predictions to it's review_id\n",
    "submission_01['rating'] = predictions_01\n",
    "submission_02['rating'] = predictions_02\n",
    "\n",
    "# Checking if columns are correctly attached\n",
    "submission_01.head()"
   ]
  },
  {
   "cell_type": "code",
   "execution_count": null,
   "metadata": {},
   "outputs": [],
   "source": [
    "# Removing the review column\n",
    "\n",
    "submission_01 = submission_01.drop(\"review\", axis = 1)\n",
    "submission_02 = submission_02.drop(\"review\", axis = 1)\n",
    "\n",
    "# Checks if column has been dropped correctly\n",
    "submission_01.head()"
   ]
  },
  {
   "cell_type": "code",
   "execution_count": null,
   "metadata": {},
   "outputs": [],
   "source": [
    "# Last check before saving to csv.\n",
    "\n",
    "print(\"submission doc 1:\", submission_01.shape)\n",
    "print(\"submission doc 2:\", submission_02.shape)"
   ]
  },
  {
   "cell_type": "code",
   "execution_count": null,
   "metadata": {},
   "outputs": [],
   "source": [
    "# Output results in csv format\n",
    "\n",
    "submission_01.to_csv(\"shopeecodeleague_SentimentAnalysis_TeamJnny_01.csv\", index = False, encoding = 'utf8')\n",
    "submission_02.to_csv(\"shopeecodeleague_SentimentAnalysis_TeamJnny_02.csv\", index = False, encoding = 'utf8')"
   ]
  },
  {
   "cell_type": "code",
   "execution_count": null,
   "metadata": {},
   "outputs": [],
   "source": []
  }
 ],
 "metadata": {
  "kernelspec": {
   "display_name": "Python 3",
   "language": "python",
   "name": "python3"
  },
  "language_info": {
   "codemirror_mode": {
    "name": "ipython",
    "version": 3
   },
   "file_extension": ".py",
   "mimetype": "text/x-python",
   "name": "python",
   "nbconvert_exporter": "python",
   "pygments_lexer": "ipython3",
   "version": "3.7.3"
  }
 },
 "nbformat": 4,
 "nbformat_minor": 4
}
